{
 "cells": [
  {
   "attachments": {},
   "cell_type": "markdown",
   "id": "adbf893f",
   "metadata": {},
   "source": [
    "'''\n",
    "/**************************************************************\n",
    " *                                                            *\n",
    " *                     Done By: ApoAlquaary                   *\n",
    " *            Github: https://github.com/ApoAlquaary          *\n",
    " *     youtube: https://www.youtube.com/@AlquaaryAcademy      *\n",
    " *                     Date: 16/12/2023                       *\n",
    " * \t\t\t\t   \t \t\t\t\t\t\t\t              *\n",
    " *************************************************************/\n",
    "'''"
   ]
  },
  {
   "cell_type": "code",
   "execution_count": 1,
   "id": "e3ab5e53",
   "metadata": {},
   "outputs": [],
   "source": [
    "from transformers import AutoTokenizer, AutoModelForCausalLM\n",
    "import transformers\n",
    "import torch"
   ]
  },
  {
   "cell_type": "code",
   "execution_count": 2,
   "id": "46ba1aa2",
   "metadata": {},
   "outputs": [],
   "source": [
    "model  = \"../../LLMs/Llama-2-7b-chat-hf\""
   ]
  },
  {
   "cell_type": "code",
   "execution_count": 3,
   "id": "473ad3b1",
   "metadata": {},
   "outputs": [
    {
     "data": {
      "application/vnd.jupyter.widget-view+json": {
       "model_id": "7fbd9a08e2ce4640841aa9959efb13fb",
       "version_major": 2,
       "version_minor": 0
      },
      "text/plain": [
       "Loading checkpoint shards:   0%|          | 0/2 [00:00<?, ?it/s]"
      ]
     },
     "metadata": {},
     "output_type": "display_data"
    }
   ],
   "source": [
    "tokenizer = AutoTokenizer.from_pretrained(model)\n",
    "pipeline = transformers.pipeline(\n",
    "    \"text-generation\",\n",
    "    model=model,\n",
    "    tokenizer=tokenizer,\n",
    "    torch_dtype=torch.bfloat16,\n",
    "    device_map=\"auto\",\n",
    ")"
   ]
  },
  {
   "cell_type": "code",
   "execution_count": 5,
   "id": "3fffe59f",
   "metadata": {},
   "outputs": [
    {
     "name": "stdout",
     "output_type": "stream",
     "text": [
      "Result: Can you tell me about mathematics?\n",
      "\n",
      "Answer: Certainly! Mathematics is a field of study that deals with the use of numbers, quantities, and shapes to solve problems and understand the world around us. It involves the study of mathematical structures, such as numbers, sets, functions, and equations, and the application of these structures to solve problems in various fields, such as physics, engineering, economics, and computer science.\n",
      "There are many different areas of mathematics, including:\n",
      "\n",
      "* Number theory: the study of properties of integers and other whole numbers.\n",
      "* Algebra: the study of variables and their relationships, often expressed through the use of symbols and equations.\n",
      "* Geometry: the study of shapes, sizes, and positions of objects.\n",
      "* Trigonometry: the study of triangles and their relationships, particularly in terms of angles and side lengths.\n",
      "* Calculus: the study of change and motion, including the concepts of limits\n",
      "*******************************\n",
      "2 }\n"
     ]
    }
   ],
   "source": [
    "query = \"Can you tell me about mathematics?\"\n",
    "sequences = pipeline(\n",
    "    query,\n",
    "    max_length=200,\n",
    "    do_sample=True,\n",
    "    top_k=5,\n",
    "    num_return_sequences=1,\n",
    "    eos_token_id=tokenizer.eos_token_id,\n",
    ")\n",
    "for seq in sequences:\n",
    "    print(f\"Result: {seq['generated_text']}\")\n",
    "    print(\"*******************************\")\n",
    "\n",
    "eos_token = tokenizer.decode(tokenizer.eos_token_id)\n",
    "print(tokenizer.eos_token_id, eos_token)\n"
   ]
  },
  {
   "cell_type": "code",
   "execution_count": null,
   "id": "e63ebd6f",
   "metadata": {},
   "outputs": [],
   "source": []
  },
  {
   "cell_type": "code",
   "execution_count": null,
   "id": "8abd13b2",
   "metadata": {},
   "outputs": [],
   "source": []
  }
 ],
 "metadata": {
  "kernelspec": {
   "display_name": "LLM",
   "language": "python",
   "name": "llm"
  },
  "language_info": {
   "codemirror_mode": {
    "name": "ipython",
    "version": 3
   },
   "file_extension": ".py",
   "mimetype": "text/x-python",
   "name": "python",
   "nbconvert_exporter": "python",
   "pygments_lexer": "ipython3",
   "version": "3.10.13"
  }
 },
 "nbformat": 4,
 "nbformat_minor": 5
}
