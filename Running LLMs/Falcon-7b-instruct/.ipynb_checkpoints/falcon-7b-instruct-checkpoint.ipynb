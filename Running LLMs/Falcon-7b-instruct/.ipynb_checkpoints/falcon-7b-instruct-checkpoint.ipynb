{
 "cells": [
  {
   "cell_type": "markdown",
   "id": "05d26e7f",
   "metadata": {},
   "source": [
    "'''\n",
    "/**************************************************************\n",
    " *                                                            *\n",
    " *                     Done By: ApoAlquaary                   *\n",
    " *            Github: https://github.com/ApoAlquaary          *\n",
    " *     youtube: https://www.youtube.com/@AlquaaryAcademy      *\n",
    " *                     Date: 16/12/2023                       *\n",
    " * \t\t\t\t   \t \t\t\t\t\t\t\t              *\n",
    " *************************************************************/\n",
    "'''"
   ]
  },
  {
   "cell_type": "code",
   "execution_count": 1,
   "id": "8f4df811",
   "metadata": {},
   "outputs": [],
   "source": [
    "from transformers import AutoTokenizer, AutoModelForCausalLM\n",
    "import transformers\n",
    "import torch"
   ]
  },
  {
   "cell_type": "code",
   "execution_count": 2,
   "id": "46ba1aa2",
   "metadata": {},
   "outputs": [],
   "source": [
    "model = \"../../../LLMs/falcon-7b-instruct\"\n",
    "\n",
    "# model = \"tiiuae/falcon-7b-instruct\""
   ]
  },
  {
   "cell_type": "code",
   "execution_count": 3,
   "id": "473ad3b1",
   "metadata": {},
   "outputs": [
    {
     "data": {
      "application/vnd.jupyter.widget-view+json": {
       "model_id": "40f4a6d5d481436a909be79a68b828be",
       "version_major": 2,
       "version_minor": 0
      },
      "text/plain": [
       "Loading checkpoint shards:   0%|          | 0/2 [00:00<?, ?it/s]"
      ]
     },
     "metadata": {},
     "output_type": "display_data"
    }
   ],
   "source": [
    "tokenizer = AutoTokenizer.from_pretrained(model)\n",
    "\n",
    "pipeline = transformers.pipeline(\n",
    "    \"text-generation\",\n",
    "    model=model,\n",
    "    tokenizer=tokenizer,\n",
    "    torch_dtype=torch.bfloat16,\n",
    "    device_map=\"auto\",\n",
    ")"
   ]
  },
  {
   "cell_type": "code",
   "execution_count": 11,
   "id": "3fffe59f",
   "metadata": {},
   "outputs": [
    {
     "name": "stderr",
     "output_type": "stream",
     "text": [
      "Setting `pad_token_id` to `eos_token_id`:11 for open-end generation.\n"
     ]
    },
    {
     "name": "stdout",
     "output_type": "stream",
     "text": [
      "Result: Who is the president of the united states\n",
      "As of 2021, President of the United States is Joe Biden.\n",
      "*******************************\n"
     ]
    }
   ],
   "source": [
    "query = \"\"\"You are a content creator assistant. Help me with writing a description for my holiday youtube video\"\"\"\n",
    "\n",
    "sequences = pipeline(\n",
    "    query,\n",
    "    max_length=200,\n",
    "    do_sample=True,\n",
    "    top_k=10,\n",
    "    num_return_sequences=1,\n",
    "    eos_token_id=tokenizer.eos_token_id,\n",
    ")\n",
    "\n",
    "for seq in sequences:\n",
    "    print(f\"Result: {seq['generated_text']}\")\n",
    "    print(\"*******************************\")\n",
    "\n",
    "# eos_token = tokenizer.decode(tokenizer.eos_token_id)\n",
    "# print(tokenizer.eos_token_id, eos_token)\n"
   ]
  },
  {
   "cell_type": "code",
   "execution_count": null,
   "id": "e63ebd6f",
   "metadata": {},
   "outputs": [],
   "source": []
  },
  {
   "cell_type": "code",
   "execution_count": null,
   "id": "8abd13b2",
   "metadata": {},
   "outputs": [],
   "source": []
  }
 ],
 "metadata": {
  "kernelspec": {
   "display_name": "LLM",
   "language": "python",
   "name": "llm"
  },
  "language_info": {
   "codemirror_mode": {
    "name": "ipython",
    "version": 3
   },
   "file_extension": ".py",
   "mimetype": "text/x-python",
   "name": "python",
   "nbconvert_exporter": "python",
   "pygments_lexer": "ipython3",
   "version": "3.10.13"
  }
 },
 "nbformat": 4,
 "nbformat_minor": 5
}
