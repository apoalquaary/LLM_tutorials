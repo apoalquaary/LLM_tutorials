{
 "cells": [
  {
   "cell_type": "markdown",
   "id": "05d26e7f",
   "metadata": {},
   "source": [
    "'''\n",
    "/**************************************************************\n",
    " *                                                            *\n",
    " *                     Done By: ApoAlquaary                   *\n",
    " *            Github: https://github.com/ApoAlquaary          *\n",
    " *     youtube: https://www.youtube.com/@AlquaaryAcademy      *\n",
    " *                     Date: 16/12/2023                       *\n",
    " * \t\t\t\t   \t \t\t\t\t\t\t\t              *\n",
    " *************************************************************/\n",
    "'''"
   ]
  },
  {
   "cell_type": "code",
   "execution_count": null,
   "id": "8f4df811",
   "metadata": {},
   "outputs": [],
   "source": [
    "from transformers import AutoTokenizer, AutoModelForCausalLM\n",
    "import transformers\n",
    "import torch"
   ]
  },
  {
   "cell_type": "code",
   "execution_count": null,
   "id": "46ba1aa2",
   "metadata": {},
   "outputs": [],
   "source": [
    "model = \"../../../LLMs/falcon-7b-instruct\"\n",
    "\n",
    "# model = \"tiiuae/falcon-7b-instruct\""
   ]
  },
  {
   "cell_type": "code",
   "execution_count": null,
   "id": "473ad3b1",
   "metadata": {},
   "outputs": [],
   "source": [
    "tokenizer = AutoTokenizer.from_pretrained(model)\n",
    "\n",
    "pipeline = transformers.pipeline(\n",
    "    \"text-generation\",\n",
    "    model=model,\n",
    "    tokenizer=tokenizer,\n",
    "    torch_dtype=torch.bfloat16,\n",
    "    device_map=\"auto\",\n",
    ")"
   ]
  },
  {
   "cell_type": "code",
   "execution_count": null,
   "id": "3fffe59f",
   "metadata": {},
   "outputs": [],
   "source": [
    "query = \"\"\"You are a writer assistant. Help me writing a story about my holiday.\"\"\"\n",
    "\n",
    "sequences = pipeline(\n",
    "    query,\n",
    "    max_length=400,\n",
    "    do_sample=True,\n",
    "    top_k=7,\n",
    "    num_return_sequences=2,\n",
    "    eos_token_id=tokenizer.eos_token_id,\n",
    ")\n",
    "\n",
    "for seq in sequences:\n",
    "    print(f\"Result: {seq['generated_text']}\")\n",
    "    print(\"*******************************\")\n",
    "\n",
    "# eos_token = tokenizer.decode(tokenizer.eos_token_id)\n",
    "# print(tokenizer.eos_token_id, eos_token)\n"
   ]
  },
  {
   "cell_type": "code",
   "execution_count": null,
   "id": "e63ebd6f",
   "metadata": {},
   "outputs": [],
   "source": []
  },
  {
   "cell_type": "code",
   "execution_count": null,
   "id": "8abd13b2",
   "metadata": {},
   "outputs": [],
   "source": []
  }
 ],
 "metadata": {
  "kernelspec": {
   "display_name": "LLM",
   "language": "python",
   "name": "llm"
  },
  "language_info": {
   "codemirror_mode": {
    "name": "ipython",
    "version": 3
   },
   "file_extension": ".py",
   "mimetype": "text/x-python",
   "name": "python",
   "nbconvert_exporter": "python",
   "pygments_lexer": "ipython3",
   "version": "3.10.13"
  }
 },
 "nbformat": 4,
 "nbformat_minor": 5
}
